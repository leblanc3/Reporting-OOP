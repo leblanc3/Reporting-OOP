{
 "cells": [
  {
   "cell_type": "markdown",
   "id": "fccf2023",
   "metadata": {},
   "source": [
    "# GROUP 4: Fonts, Colors, Images"
   ]
  },
  {
   "cell_type": "markdown",
   "id": "ea22fc2d",
   "metadata": {},
   "source": [
    "## FRAME"
   ]
  },
  {
   "cell_type": "code",
   "execution_count": 4,
   "id": "76dda660",
   "metadata": {},
   "outputs": [],
   "source": [
    "from tkinter import *\n",
    "\n",
    "window = Tk()\n",
    "frame = Frame(window, width=300, height=200,bd=5, relief=\"sunken\", background=\"red\")\n",
    "\n",
    "#frame.configure(background =\"#a425db\")\n",
    "frame.pack(pady=50)\n",
    "\n",
    "window.mainloop()\n"
   ]
  },
  {
   "cell_type": "markdown",
   "id": "83121489",
   "metadata": {},
   "source": [
    "## LABEL"
   ]
  },
  {
   "cell_type": "code",
   "execution_count": 5,
   "id": "61a53a43",
   "metadata": {},
   "outputs": [],
   "source": [
    "from tkinter import *\n",
    "from tkinter.font import Font\n",
    "\"\"\"\n",
    "#Creating own fonts\n",
    "big_text = Font(family =\"Script\", \n",
    "                size =50, \n",
    "                weight = \"bold\",\n",
    "                slant = \"roman\",\n",
    "                underline = 1,\n",
    "                overstrike= 0\n",
    "                )\n",
    "\"\"\"\n",
    "\n",
    "window = Tk()\n",
    "frame = Frame(window,bd=5, relief=\"sunken\", background= \"#d9ecd0\")\n",
    "frame.pack()\n",
    "label = Label(frame, text = \"what happen vella?\", font = (\"Helvetica\", 15))\n",
    "\n",
    "#Dictionary style \n",
    "#label[\"font\"] = big_text\n",
    "\n",
    "label.pack(pady=30)\n",
    "\n",
    "#Using configure method\n",
    "#label.configure(font=(\"Courier\",50)) # Configure fonts\n",
    "#label.configure(background= \"#77a8a8\") # Configure background\n",
    "#label.configure(foreground=\"pink\") #Configure foreground\n",
    "\n",
    "window.mainloop()"
   ]
  },
  {
   "cell_type": "markdown",
   "id": "b141359f",
   "metadata": {},
   "source": [
    "## LABEL: Image"
   ]
  },
  {
   "cell_type": "code",
   "execution_count": 6,
   "id": "f946ba81",
   "metadata": {},
   "outputs": [],
   "source": [
    "from tkinter import *\n",
    "from PIL import ImageTk, Image\n",
    "\n",
    "window = Tk()\n",
    "frame = Frame(window, height = 720, width=1080,bg=\"#000000\")\n",
    "frame.pack(pady=30)\n",
    "\n",
    "img1 = ImageTk.PhotoImage((Image.open(\"C:\\\\Users\\\\ThinkPad\\\\Documents\\\\GitHub\\\\OOP\\\\Reporting\\\\images\\\\prog.jpg\")))\n",
    "img2 = ImageTk.PhotoImage(Image.open(\"C:\\\\Users\\\\ThinkPad\\\\Documents\\\\GitHub\\\\OOP\\\\Reporting\\\\images\\\\meme.png\"))\n",
    "\n",
    "label = Label(frame, \n",
    "            image=img1, \n",
    "            #text = \"Lorem ipsum dolor sit amet.\", \n",
    "            #compound=TOP, \n",
    "            #font= (\"Arial\", 25,\"bold\"),\n",
    "            #foreground= \"red\",\n",
    "            #background = \"violet\"\n",
    "            )\n",
    "label.pack(pady=50)\n",
    "\n",
    "def change_image():\n",
    "    label.config(image=img2)\n",
    "    \n",
    "button = Button(frame,\n",
    "                text=\"Change Image\", \n",
    "                command=change_image)\n",
    "\n",
    "button.pack(pady=25)\n",
    "\n",
    "window.mainloop()\n"
   ]
  },
  {
   "cell_type": "markdown",
   "id": "752761bb",
   "metadata": {},
   "source": [
    "## Button"
   ]
  },
  {
   "cell_type": "code",
   "execution_count": null,
   "id": "ea964f39",
   "metadata": {},
   "outputs": [],
   "source": [
    "from tkinter import *\n",
    "from PIL import ImageTk, Image\n",
    "import random\n",
    "\n",
    "\n",
    "#TULOG MUNA MAY MALI\n",
    "\n",
    "window = Tk()\n",
    "\n",
    "frame = Frame(window,height =200,width=200)\n",
    "frame.pack()\n",
    "\n",
    "def random_color():\n",
    "    return \"#\" + ''.join(random.choices('0123456789ABCDEF', k=6))\n",
    "\n",
    "def change_color():\n",
    "    new_color = random_color()\n",
    "    button.configure(background=new_color)\n",
    "\n",
    "button_image =Image.open(\"button.png\")\n",
    "button_image = button_image.resize((50,50)\n",
    "                                   )\n",
    "button_image = ImageTk.PhotoImage(button_image)\n",
    "button = Button(frame,\n",
    "                image = button_image,\n",
    "                command = \"changed_color()\")\n",
    "\n",
    "button.pack(pady=50)\n",
    "\n",
    "window.mainloop()"
   ]
  },
  {
   "cell_type": "code",
   "execution_count": null,
   "id": "f48c2354",
   "metadata": {},
   "outputs": [],
   "source": []
  },
  {
   "cell_type": "code",
   "execution_count": null,
   "id": "6126b698",
   "metadata": {},
   "outputs": [],
   "source": []
  }
 ],
 "metadata": {
  "kernelspec": {
   "display_name": "Python 3",
   "language": "python",
   "name": "python3"
  },
  "language_info": {
   "codemirror_mode": {
    "name": "ipython",
    "version": 3
   },
   "file_extension": ".py",
   "mimetype": "text/x-python",
   "name": "python",
   "nbconvert_exporter": "python",
   "pygments_lexer": "ipython3",
   "version": "3.13.1"
  }
 },
 "nbformat": 4,
 "nbformat_minor": 5
}
