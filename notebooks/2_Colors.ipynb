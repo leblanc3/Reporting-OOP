{
 "cells": [
  {
   "cell_type": "markdown",
   "id": "10ddecb7",
   "metadata": {},
   "source": [
    "# **Tkinter Fonts, Colors, and Images**\n",
    "\n",
    "##  **II. Colors**"
   ]
  },
  {
   "cell_type": "markdown",
   "id": "6ea92749",
   "metadata": {},
   "source": [
    "### Color Configuration"
   ]
  },
  {
   "cell_type": "markdown",
   "id": "8eb3c07c",
   "metadata": {},
   "source": [
    "```fg``` and ```bg```"
   ]
  },
  {
   "cell_type": "code",
   "execution_count": 9,
   "id": "dabc8aee",
   "metadata": {},
   "outputs": [],
   "source": [
    "from tkinter import *\n",
    "\n",
    "window = Tk()\n",
    "window.geometry(\"300x200\")\n",
    "\n",
    "Label(window, text=\"Label\", fg=\"red\", bg=\"yellow\").pack()\n",
    "\n",
    "window.mainloop()"
   ]
  },
  {
   "cell_type": "markdown",
   "id": "c97547ed",
   "metadata": {},
   "source": [
    "Hex Codes"
   ]
  },
  {
   "cell_type": "code",
   "execution_count": 10,
   "id": "d8092d11",
   "metadata": {},
   "outputs": [],
   "source": [
    "from tkinter import *\n",
    "\n",
    "window = Tk()\n",
    "window.geometry(\"300x200\")\n",
    "\n",
    "Button(window, text=\"Button\", fg=\"#FFFFFF\", bg=\"#000000\").pack()\n",
    "\n",
    "window.mainloop()"
   ]
  },
  {
   "cell_type": "markdown",
   "id": "a66dbbfd",
   "metadata": {},
   "source": [
    "Standard Named Colors"
   ]
  },
  {
   "cell_type": "code",
   "execution_count": 11,
   "id": "cbf8d58f",
   "metadata": {},
   "outputs": [],
   "source": [
    "from tkinter import *\n",
    "\n",
    "window = Tk()\n",
    "window.geometry(\"300x200\")\n",
    "\n",
    "# Example Label with named color\n",
    "Button(window, text=\"Button\", fg=\"white\", bg=\"black\").pack()\n",
    "\n",
    "window.mainloop()"
   ]
  },
  {
   "cell_type": "markdown",
   "id": "fffe8417",
   "metadata": {},
   "source": [
    "```winfo_rgb(color)```"
   ]
  },
  {
   "cell_type": "code",
   "execution_count": 13,
   "id": "ee2a3bdb",
   "metadata": {},
   "outputs": [
    {
     "name": "stdout",
     "output_type": "stream",
     "text": [
      "(0, 0, 0)\n"
     ]
    }
   ],
   "source": [
    "from tkinter import *\n",
    "\n",
    "window = Tk()\n",
    "window.geometry(\"300x200\")\n",
    "\n",
    "# Example winfo_rgb to get RGB value of color\n",
    "rgb = window.winfo_rgb(\"Black\")\n",
    "print(rgb)  # (R, G, B) values in 0-65535\n",
    "\n",
    "window.destroy()"
   ]
  },
  {
   "cell_type": "markdown",
   "id": "56f2125e",
   "metadata": {},
   "source": [
    "### Color Chooser"
   ]
  },
  {
   "cell_type": "markdown",
   "id": "9c37380d",
   "metadata": {},
   "source": [
    "```tkinter.colorchooser``` - ```askcolor()```"
   ]
  },
  {
   "cell_type": "code",
   "execution_count": 15,
   "id": "f8572718",
   "metadata": {},
   "outputs": [
    {
     "name": "stdout",
     "output_type": "stream",
     "text": [
      "#06f9b6\n",
      "#fa82fd\n"
     ]
    }
   ],
   "source": [
    "from tkinter import *\n",
    "from tkinter.colorchooser import askcolor\n",
    "\n",
    "window = Tk()\n",
    "window.geometry(\"300x200\")\n",
    "\n",
    "# Function to open color chooser and update button color\n",
    "def choose_color():\n",
    "    color = askcolor(initialcolor=\"#FF0000\", title=\"Pick a Color\")[1]\n",
    "    if color:  # if user did not cancel\n",
    "        print(color)\n",
    "        color_button.configure(bg=color)\n",
    "\n",
    "color_button = Button(window, text=\"Pick Color\", command=choose_color)\n",
    "color_button.pack(pady=20)\n",
    "\n",
    "window.mainloop()"
   ]
  },
  {
   "cell_type": "markdown",
   "id": "ecdf7f17",
   "metadata": {},
   "source": [
    "### Widgets With Color (```fg``` and ```bg```) Options\n"
   ]
  },
  {
   "cell_type": "code",
   "execution_count": 17,
   "id": "7dbe4cd3",
   "metadata": {},
   "outputs": [],
   "source": [
    "from tkinter import *\n",
    "from tkinter import ttk\n",
    "\n",
    "window = Tk()\n",
    "window.geometry(\"300x500\")\n",
    "\n",
    "# Frame\n",
    "Frame(window, bg=\"lightblue\", height=50, width=250).pack(pady=5)\n",
    "\n",
    "# Label\n",
    "Label(window, text=\"Label\", fg=\"red\", bg=\"yellow\").pack(pady=5)\n",
    "\n",
    "# Button\n",
    "Button(window, text=\"Button\", fg=\"white\", bg=\"green\").pack(pady=5)\n",
    "\n",
    "# Checkbutton\n",
    "Checkbutton(window, text=\"Checkbutton\", fg=\"blue\", bg=\"pink\").pack(pady=5)\n",
    "\n",
    "# Radiobutton\n",
    "Radiobutton(window, text=\"Radiobutton\", fg=\"purple\", bg=\"orange\").pack(pady=5)\n",
    "\n",
    "# Entry\n",
    "entry = Entry(window, fg=\"black\", bg=\"white\")\n",
    "entry.insert(0, \"Entry\")\n",
    "entry.pack(pady=5)\n",
    "\n",
    "# Combobox\n",
    "combo = ttk.Combobox(window, values=[\"Combobox\", \"Option 1\", \"Option 2\", \"Option 3\"])\n",
    "combo.current(0)\n",
    "combo.pack(pady=5)\n",
    "\n",
    "# Listbox\n",
    "listbox = Listbox(window, fg=\"brown\", bg=\"beige\", height=3)\n",
    "listbox.insert(END, \"Listbox\")\n",
    "listbox.insert(END, \"Item 1\")\n",
    "listbox.insert(END, \"Item 2\")\n",
    "listbox.insert(END, \"Item 3\")\n",
    "listbox.pack(pady=5)\n",
    "\n",
    "# Text\n",
    "text = Text(window, fg=\"darkgreen\", bg=\"lightgray\", height=3)\n",
    "text.insert(END, \"Text\")\n",
    "text.pack(pady=5)\n",
    "\n",
    "window.mainloop()"
   ]
  }
 ],
 "metadata": {
  "kernelspec": {
   "display_name": "Python 3",
   "language": "python",
   "name": "python3"
  },
  "language_info": {
   "codemirror_mode": {
    "name": "ipython",
    "version": 3
   },
   "file_extension": ".py",
   "mimetype": "text/x-python",
   "name": "python",
   "nbconvert_exporter": "python",
   "pygments_lexer": "ipython3",
   "version": "3.13.1"
  }
 },
 "nbformat": 4,
 "nbformat_minor": 5
}
