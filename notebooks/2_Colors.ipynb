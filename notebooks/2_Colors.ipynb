{
 "cells": [
  {
   "cell_type": "markdown",
   "id": "10ddecb7",
   "metadata": {},
   "source": [
    "# COLORS"
   ]
  },
  {
   "cell_type": "code",
   "execution_count": null,
   "id": "893285af",
   "metadata": {},
   "outputs": [],
   "source": [
    "from tkinter import *\n",
    "\n",
    "window = Tk()\n",
    "window.title(\"Tkinter Fonts\")\n",
    "window.geometry(\"300x300\")\n",
    "\n",
    "label = Label(window, text = \"THIS IS A LABEL\", font = 300, \n",
    "              #foreground= \"green\", \n",
    "              #background=\"black\", \n",
    "              )\n",
    "label.pack(pady= 50)\n",
    "\n",
    "window.mainloop()"
   ]
  },
  {
   "cell_type": "markdown",
   "id": "ae6cdad8",
   "metadata": {},
   "source": [
    "```.winfo_rgb method```"
   ]
  },
  {
   "cell_type": "code",
   "execution_count": null,
   "id": "2c5b3a6a",
   "metadata": {},
   "outputs": [
    {
     "name": "stdout",
     "output_type": "stream",
     "text": [
      "RGB Values = (65535, 0, 0)\n"
     ]
    }
   ],
   "source": [
    "from tkinter import *\n",
    "\n",
    "window = Tk()\n",
    "\n",
    "x =window.winfo_rgb('red')\n",
    "print(f\"RGB Values = {x}\")\n",
    "\n",
    "window.destroy()"
   ]
  },
  {
   "cell_type": "code",
   "execution_count": null,
   "id": "3fc5cff8",
   "metadata": {},
   "outputs": [],
   "source": [
    "from tkinter import *\n",
    "from tkinter import ttk\n",
    "window = Tk()\n",
    "window.title(\"Tkinter Fonts\")\n",
    "window.geometry(\"800x800\")\n",
    "\n",
    "#LABEL WIDGET\n",
    "label = Label(window, text = \"THIS IS A LABEL\", font = 100)\n",
    "\n",
    "#CHECKBOXES\n",
    "checkbutton = Checkbutton(window, text =\"I AM A CHECKBUTTON, YOU CAN CHECK ME!\")\n",
    "\n",
    "#RADIOBUTTON widget\n",
    "radiobutton = Radiobutton(window, text= \"I AM A RADIOBUTTON, YOU CAN SELECT ME!\")\n",
    "\n",
    "#ENTRY WIDGET\n",
    "entry = Entry(window)\n",
    "\n",
    "#BUTTON WIDGET\n",
    "button = Button(window,text = \"SUBMIT\")\n",
    "\n",
    "#COMBOBOX WIDGET\n",
    "combobox = ttk.Combobox(window, values=[\"option1\", \"option2\", \"option3\"],\n",
    "        )\n",
    "\n",
    "#LISTBOX WIDGET\n",
    "listbox = Listbox(window)\n",
    "courses = [\"BSCPE\", \"BSCE\", \"BSEE\", \"BSIE\", \"BSME\"]\n",
    "for course in courses:\n",
    "    listbox.insert(END, course)\n",
    "\n",
    "#TEXT WIDGET\n",
    "textt= Text(window, height=10, width=20)\n",
    "\n",
    "#LIST OF WIDGETS\n",
    "widgets = [label, checkbutton, radiobutton, entry, button, combobox, combobox, listbox, textt]\n",
    "\n",
    "#FOR LOOP TO PACK ALL WIDGET in WIDGETS LIST\n",
    "for widget in widgets:\n",
    "    widget.pack(pady=15)\n",
    "\n",
    "#Configuration of color\n",
    "\"\"\"\n",
    "for widget in widgets:\n",
    "    widget.configure(foreground = \"red\")\n",
    "    widget.configure(background = \"#9FC87E\")\n",
    "\"\"\"\n",
    "\n",
    "window.mainloop()"
   ]
  }
 ],
 "metadata": {
  "kernelspec": {
   "display_name": "Python 3",
   "language": "python",
   "name": "python3"
  },
  "language_info": {
   "codemirror_mode": {
    "name": "ipython",
    "version": 3
   },
   "file_extension": ".py",
   "mimetype": "text/x-python",
   "name": "python",
   "nbconvert_exporter": "python",
   "pygments_lexer": "ipython3",
   "version": "3.13.1"
  }
 },
 "nbformat": 4,
 "nbformat_minor": 5
}
