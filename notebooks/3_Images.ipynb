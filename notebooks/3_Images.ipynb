{
 "cells": [
  {
   "cell_type": "markdown",
   "id": "72646661",
   "metadata": {},
   "source": [
    "# **Tkinter Fonts, Colors, and Images**\n",
    "\n",
    "##  **III. Images**\n"
   ]
  },
  {
   "cell_type": "markdown",
   "id": "78d21e9a",
   "metadata": {},
   "source": [
    "### Image Configuration"
   ]
  },
  {
   "cell_type": "markdown",
   "id": "d851355f",
   "metadata": {},
   "source": [
    "```PhotoImage(file)```"
   ]
  },
  {
   "cell_type": "code",
   "execution_count": null,
   "id": "a6e00fcd",
   "metadata": {},
   "outputs": [],
   "source": [
    "from tkinter import *\n",
    "\n",
    "window = Tk()\n",
    "window.geometry(\"300x300\")\n",
    "\n",
    "img = PhotoImage(file=\"../images/Male.png\")\n",
    "\n",
    "Label(window, image=img).pack()\n",
    "\n",
    "window.mainloop()"
   ]
  },
  {
   "cell_type": "markdown",
   "id": "3a688c93",
   "metadata": {},
   "source": [
    "```ImageTk.PhotoImage(file)``` - Using **PIL (Pillow)** module"
   ]
  },
  {
   "cell_type": "code",
   "execution_count": null,
   "id": "cec38c39",
   "metadata": {},
   "outputs": [],
   "source": [
    "from tkinter import *\n",
    "from PIL import ImageTk\n",
    "\n",
    "window = Tk()\n",
    "window.geometry(\"1200x600\")\n",
    "\n",
    "img_tk = ImageTk.PhotoImage(file=\"../images/pranked.jpg\")\n",
    "\n",
    "Label(window, image=img_tk).pack()\n",
    "\n",
    "window.mainloop()"
   ]
  },
  {
   "cell_type": "markdown",
   "id": "1d1770e1",
   "metadata": {},
   "source": [
    "```Image.open(file)``` + ```.resize((size))``` - Using **PIL (Pillow)** module"
   ]
  },
  {
   "cell_type": "code",
   "execution_count": null,
   "id": "8015340e",
   "metadata": {},
   "outputs": [],
   "source": [
    "from tkinter import *\n",
    "from PIL import Image, ImageTk\n",
    "\n",
    "window = Tk()\n",
    "window.geometry(\"1200x600\")\n",
    "\n",
    "img = Image.open(\"../images/pranked.jpg\")\n",
    "# img_resized = img.resize((100,100))\n",
    "\n",
    "img_tk = ImageTk.PhotoImage(img)\n",
    "\n",
    "Label(window, image=img_tk).pack()\n",
    "\n",
    "window.mainloop()"
   ]
  },
  {
   "cell_type": "markdown",
   "id": "2da3cb4a",
   "metadata": {},
   "source": [
    "### Setting Icons"
   ]
  },
  {
   "cell_type": "markdown",
   "id": "38c5d1fd",
   "metadata": {},
   "source": [
    "```.iconphoto()```"
   ]
  },
  {
   "cell_type": "code",
   "execution_count": null,
   "id": "5bda8f30",
   "metadata": {},
   "outputs": [],
   "source": [
    "from tkinter import *\n",
    "\n",
    "window = Tk()\n",
    "window.geometry(\"300x200\")\n",
    "\n",
    "icon_img = PhotoImage(file=\"../images/group_icon.png\")  # must be PNG or GIF\n",
    "\n",
    "window.iconphoto(False, icon_img)\n",
    "\n",
    "Label(window, text=\"Window with iconphoto()\").pack()\n",
    "\n",
    "window.mainloop()\n"
   ]
  },
  {
   "cell_type": "markdown",
   "id": "b4b8b7bd",
   "metadata": {},
   "source": [
    "```.iconbitmap()```"
   ]
  },
  {
   "cell_type": "code",
   "execution_count": null,
   "id": "3f8a379e",
   "metadata": {},
   "outputs": [],
   "source": [
    "from tkinter import *\n",
    "\n",
    "window = Tk()\n",
    "window.geometry(\"300x200\")\n",
    "\n",
    "window.iconbitmap(\"../images/group_icon.ico\")  # must be .ico format\n",
    "\n",
    "Label(window, text=\"Window with iconbitmap()\").pack()\n",
    "\n",
    "window.mainloop()\n"
   ]
  },
  {
   "cell_type": "markdown",
   "id": "0053a2cf",
   "metadata": {},
   "source": [
    "Button icon"
   ]
  },
  {
   "cell_type": "code",
   "execution_count": null,
   "id": "82da3de7",
   "metadata": {},
   "outputs": [],
   "source": [
    "from tkinter import *\n",
    "from PIL import Image, ImageTk\n",
    "\n",
    "window = Tk()\n",
    "window.geometry(\"300x200\")\n",
    "\n",
    "img = Image.open(\"../images/Male.png\")\n",
    "\n",
    "img_resized = img.resize((32, 32))\n",
    "\n",
    "img_tk = ImageTk.PhotoImage(img_resized)\n",
    "\n",
    "Button(window, image=img_tk, text=\"Button with icon\", compound=\"left\", anchor=\"w\").pack(ipadx=5, pady=20)\n",
    "\n",
    "window.mainloop()"
   ]
  },
  {
   "cell_type": "markdown",
   "id": "f28fa42d",
   "metadata": {},
   "source": [
    "### Widgets With ```image``` Options"
   ]
  },
  {
   "cell_type": "code",
   "execution_count": 2,
   "id": "96041519",
   "metadata": {},
   "outputs": [
    {
     "ename": "TclError",
     "evalue": "image \"pyimage1\" doesn't exist",
     "output_type": "error",
     "traceback": [
      "\u001b[31m---------------------------------------------------------------------------\u001b[39m",
      "\u001b[31mTclError\u001b[39m                                  Traceback (most recent call last)",
      "\u001b[36mCell\u001b[39m\u001b[36m \u001b[39m\u001b[32mIn[2]\u001b[39m\u001b[32m, line 13\u001b[39m\n\u001b[32m     10\u001b[39m img_tk = ImageTk.PhotoImage(img_resized)\n\u001b[32m     12\u001b[39m \u001b[38;5;66;03m# Label\u001b[39;00m\n\u001b[32m---> \u001b[39m\u001b[32m13\u001b[39m \u001b[43mLabel\u001b[49m\u001b[43m(\u001b[49m\u001b[43mwindow\u001b[49m\u001b[43m,\u001b[49m\u001b[43m \u001b[49m\u001b[43mimage\u001b[49m\u001b[43m=\u001b[49m\u001b[43mimg_tk\u001b[49m\u001b[43m)\u001b[49m.pack(pady=\u001b[32m5\u001b[39m)\n\u001b[32m     15\u001b[39m \u001b[38;5;66;03m# Button\u001b[39;00m\n\u001b[32m     16\u001b[39m Button(window, image=img_tk, text=\u001b[33m\"\u001b[39m\u001b[33mButton\u001b[39m\u001b[33m\"\u001b[39m, compound=\u001b[33m\"\u001b[39m\u001b[33mleft\u001b[39m\u001b[33m\"\u001b[39m).pack(pady=\u001b[32m5\u001b[39m)\n",
      "\u001b[36mFile \u001b[39m\u001b[32mc:\\Users\\zyber\\AppData\\Local\\Programs\\Python\\Python313\\Lib\\tkinter\\__init__.py:3363\u001b[39m, in \u001b[36mLabel.__init__\u001b[39m\u001b[34m(self, master, cnf, **kw)\u001b[39m\n\u001b[32m   3345\u001b[39m \u001b[38;5;28;01mdef\u001b[39;00m\u001b[38;5;250m \u001b[39m\u001b[34m__init__\u001b[39m(\u001b[38;5;28mself\u001b[39m, master=\u001b[38;5;28;01mNone\u001b[39;00m, cnf={}, **kw):\n\u001b[32m   3346\u001b[39m \u001b[38;5;250m    \u001b[39m\u001b[33;03m\"\"\"Construct a label widget with the parent MASTER.\u001b[39;00m\n\u001b[32m   3347\u001b[39m \n\u001b[32m   3348\u001b[39m \u001b[33;03m    STANDARD OPTIONS\u001b[39;00m\n\u001b[32m   (...)\u001b[39m\u001b[32m   3361\u001b[39m \n\u001b[32m   3362\u001b[39m \u001b[33;03m    \"\"\"\u001b[39;00m\n\u001b[32m-> \u001b[39m\u001b[32m3363\u001b[39m     \u001b[43mWidget\u001b[49m\u001b[43m.\u001b[49m\u001b[34;43m__init__\u001b[39;49m\u001b[43m(\u001b[49m\u001b[38;5;28;43mself\u001b[39;49m\u001b[43m,\u001b[49m\u001b[43m \u001b[49m\u001b[43mmaster\u001b[49m\u001b[43m,\u001b[49m\u001b[43m \u001b[49m\u001b[33;43m'\u001b[39;49m\u001b[33;43mlabel\u001b[39;49m\u001b[33;43m'\u001b[39;49m\u001b[43m,\u001b[49m\u001b[43m \u001b[49m\u001b[43mcnf\u001b[49m\u001b[43m,\u001b[49m\u001b[43m \u001b[49m\u001b[43mkw\u001b[49m\u001b[43m)\u001b[49m\n",
      "\u001b[36mFile \u001b[39m\u001b[32mc:\\Users\\zyber\\AppData\\Local\\Programs\\Python\\Python313\\Lib\\tkinter\\__init__.py:2774\u001b[39m, in \u001b[36mBaseWidget.__init__\u001b[39m\u001b[34m(self, master, widgetName, cnf, kw, extra)\u001b[39m\n\u001b[32m   2772\u001b[39m \u001b[38;5;28;01mfor\u001b[39;00m k, v \u001b[38;5;129;01min\u001b[39;00m classes:\n\u001b[32m   2773\u001b[39m     \u001b[38;5;28;01mdel\u001b[39;00m cnf[k]\n\u001b[32m-> \u001b[39m\u001b[32m2774\u001b[39m \u001b[38;5;28;43mself\u001b[39;49m\u001b[43m.\u001b[49m\u001b[43mtk\u001b[49m\u001b[43m.\u001b[49m\u001b[43mcall\u001b[49m\u001b[43m(\u001b[49m\n\u001b[32m   2775\u001b[39m \u001b[43m    \u001b[49m\u001b[43m(\u001b[49m\u001b[43mwidgetName\u001b[49m\u001b[43m,\u001b[49m\u001b[43m \u001b[49m\u001b[38;5;28;43mself\u001b[39;49m\u001b[43m.\u001b[49m\u001b[43m_w\u001b[49m\u001b[43m)\u001b[49m\u001b[43m \u001b[49m\u001b[43m+\u001b[49m\u001b[43m \u001b[49m\u001b[43mextra\u001b[49m\u001b[43m \u001b[49m\u001b[43m+\u001b[49m\u001b[43m \u001b[49m\u001b[38;5;28;43mself\u001b[39;49m\u001b[43m.\u001b[49m\u001b[43m_options\u001b[49m\u001b[43m(\u001b[49m\u001b[43mcnf\u001b[49m\u001b[43m)\u001b[49m\u001b[43m)\u001b[49m\n\u001b[32m   2776\u001b[39m \u001b[38;5;28;01mfor\u001b[39;00m k, v \u001b[38;5;129;01min\u001b[39;00m classes:\n\u001b[32m   2777\u001b[39m     k.configure(\u001b[38;5;28mself\u001b[39m, v)\n",
      "\u001b[31mTclError\u001b[39m: image \"pyimage1\" doesn't exist"
     ]
    }
   ],
   "source": [
    "from tkinter import *\n",
    "from PIL import Image, ImageTk\n",
    "\n",
    "window = Tk()\n",
    "window.geometry(\"300x500\")\n",
    "\n",
    "# Load image\n",
    "img_pil = Image.open(\"../images/Clickme.jpg\")  # replace with your image file\n",
    "img_resized = img_pil.resize((50, 50))\n",
    "img_tk = ImageTk.PhotoImage(img_resized)\n",
    "\n",
    "# Label\n",
    "Label(window, image=img_tk).pack(pady=5)\n",
    "\n",
    "# Button\n",
    "Button(window, image=img_tk, text=\"Button\", compound=\"left\").pack(pady=5)\n",
    "\n",
    "# Checkbutton\n",
    "Checkbutton(window, image=img_tk, text=\"Check\", compound=\"left\").pack(pady=5)\n",
    "\n",
    "# Radiobutton\n",
    "Radiobutton(window, image=img_tk, text=\"Radio\", compound=\"left\").pack(pady=5)\n",
    "\n",
    "# Text widget with embedded image\n",
    "text = Text(window, height=5)\n",
    "text.pack(pady=5)\n",
    "text.insert(END, \"Text widget with image below:\\n\")\n",
    "text.image_create(\"end\", image=img_tk)\n",
    "\n",
    "window.mainloop()\n"
   ]
  },
  {
   "cell_type": "markdown",
   "id": "3c85f7ad",
   "metadata": {},
   "source": [
    "Renier"
   ]
  },
  {
   "cell_type": "code",
   "execution_count": null,
   "id": "41077c19",
   "metadata": {},
   "outputs": [],
   "source": [
    "from tkinter import *\n",
    "\n",
    "window = Tk()\n",
    "imgobj = PhotoImage(file =\"../images/jesus.png\")\n",
    "#img = PhotoImage(file =(\"../images/Clickme.jpg\"))\n",
    "\n",
    "label = Label(window)\n",
    "label['image'] = imgobj\n",
    "\n",
    "label.pack(pady=20)\n",
    "\n",
    "window.mainloop()"
   ]
  },
  {
   "cell_type": "markdown",
   "id": "23ab9d42",
   "metadata": {},
   "source": [
    "### Additional image configuration options using PIL"
   ]
  },
  {
   "cell_type": "code",
   "execution_count": null,
   "id": "42325847",
   "metadata": {},
   "outputs": [],
   "source": [
    "\n",
    "\n",
    "from tkinter import *\n",
    "from PIL import Image, ImageTk\n",
    "\n",
    "window = Tk()\n",
    "\n",
    "img = ImageTk.PhotoImage(Image.open(\"../images/Clickme.jpg\"))\n",
    "\n",
    "label = Label(window, text= \"THIS IS THE LABEL\",image= img , background =\"green\", compound= TOP)\n",
    "label.pack(pady=20)\n",
    "\n",
    "\n",
    "def click():\n",
    "    \n",
    "    label.configure(image= img2)\n",
    "\n",
    "img2 = ImageTk.PhotoImage(Image.open(\"../images/pranked.jpg\"))\n",
    "buttonimg = ImageTk.PhotoImage(file =\"../images/button.png\")\n",
    "\n",
    "button = Button(window, image = buttonimg, text= \"THIS IS THE BUTTON\", compound=TOP, command=(click))\n",
    "button.pack(pady=30)\n",
    "\n",
    "window.mainloop()"
   ]
  },
  {
   "cell_type": "markdown",
   "id": "71a3188a",
   "metadata": {},
   "source": [
    "### Another  Image configuration of widgets"
   ]
  },
  {
   "cell_type": "code",
   "execution_count": null,
   "id": "7f9789f3",
   "metadata": {},
   "outputs": [],
   "source": [
    "from tkinter import *\n",
    "from PIL import Image, ImageTk\n",
    "\n",
    "window = Tk()\n",
    "window.geometry(\"500x500\")\n",
    "\n",
    "male_photo = ImageTk.PhotoImage(Image.open(\"../images/Male.png\"))\n",
    "female_photo = ImageTk.PhotoImage(Image.open(\"../images/Female.png\"))\n",
    "\n",
    "selected_gender = StringVar(value=\"male\")\n",
    "\n",
    "image_label = Label(window, image=male_photo)\n",
    "image_label.pack(pady=10)\n",
    "\n",
    "def update_image():\n",
    "    if selected_gender.get() == \"male\":\n",
    "        image_label.config(image=male_photo)\n",
    "    else:\n",
    "        image_label.config(image=female_photo)\n",
    "\n",
    "# Radiobuttons to select gender\n",
    "radiobutton1 = Radiobutton(window, text=\"Male\", variable=selected_gender, value=\"male\", command=update_image)\n",
    "radiobutton2 = Radiobutton(window, text=\"Female\", variable=selected_gender, value=\"female\", command=update_image)\n",
    "\n",
    "radiobutton1.pack(anchor='w')\n",
    "radiobutton2.pack(anchor='w')\n",
    "\n",
    "check_var = IntVar(value=0)\n",
    "\n",
    "def toggle_radiobuttons():\n",
    "    state = NORMAL if check_var.get() == 1 else DISABLED\n",
    "    radiobutton1.config(state=state)\n",
    "    radiobutton2.config(state=state)\n",
    "\n",
    "\n",
    "checkbutton = Checkbutton(window, text=\"I want to select\", variable=check_var, command=toggle_radiobuttons)\n",
    "checkbutton.pack(pady=10)\n",
    "\n",
    "window.mainloop()"
   ]
  },
  {
   "cell_type": "code",
   "execution_count": null,
   "id": "a65218d4",
   "metadata": {},
   "outputs": [],
   "source": []
  }
 ],
 "metadata": {
  "kernelspec": {
   "display_name": "Python 3",
   "language": "python",
   "name": "python3"
  },
  "language_info": {
   "codemirror_mode": {
    "name": "ipython",
    "version": 3
   },
   "file_extension": ".py",
   "mimetype": "text/x-python",
   "name": "python",
   "nbconvert_exporter": "python",
   "pygments_lexer": "ipython3",
   "version": "3.13.2"
  }
 },
 "nbformat": 4,
 "nbformat_minor": 5
}
