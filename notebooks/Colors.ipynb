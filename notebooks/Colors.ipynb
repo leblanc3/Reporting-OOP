{
 "cells": [
  {
   "cell_type": "markdown",
   "id": "10ddecb7",
   "metadata": {},
   "source": [
    "# COLORS"
   ]
  },
  {
   "cell_type": "markdown",
   "id": "725ae061",
   "metadata": {},
   "source": [
    "## FRAME"
   ]
  },
  {
   "cell_type": "code",
   "execution_count": null,
   "id": "83027b67",
   "metadata": {},
   "outputs": [],
   "source": [
    "from tkinter import *\n",
    "\n",
    "window = Tk()\n",
    "frame = Frame(window, width=300, height=200,bd=5, relief=\"sunken\", background=\"red\")\n",
    "\n",
    "#frame.configure(background =\"#a425db\")\n",
    "frame.pack(pady=50)\n",
    "\n",
    "window.mainloop()\n"
   ]
  },
  {
   "cell_type": "markdown",
   "id": "bec0ef10",
   "metadata": {},
   "source": [
    "## LABEL"
   ]
  },
  {
   "cell_type": "code",
   "execution_count": null,
   "id": "fb9d644c",
   "metadata": {},
   "outputs": [],
   "source": [
    "from tkinter import *\n",
    "from tkinter.font import Font\n",
    "\n",
    "window = Tk()\n",
    "frame = Frame(window,bd=5, relief=\"sunken\", background= \"#d9ecd0\")\n",
    "frame.pack()\n",
    "label = Label(frame, text = \"what happen vella?\", font = (\"Helvetica\", 15))\n",
    "\n",
    "label.pack(pady=30)\n",
    "\n",
    "#Using configure method\n",
    "#label.configure(background= \"#77a8a8\") # Configure background\n",
    "#label.configure(foreground=\"pink\") #Configure foreground\n",
    "\n",
    "window.mainloop()"
   ]
  }
 ],
 "metadata": {
  "kernelspec": {
   "display_name": "Python 3",
   "language": "python",
   "name": "python3"
  },
  "language_info": {
   "name": "python",
   "version": "3.13.1"
  }
 },
 "nbformat": 4,
 "nbformat_minor": 5
}
