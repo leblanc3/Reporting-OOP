{
 "cells": [
  {
   "cell_type": "markdown",
   "id": "10ddecb7",
   "metadata": {},
   "source": [
    "# COLORS"
   ]
  },
  {
   "cell_type": "code",
   "execution_count": null,
   "id": "3fc5cff8",
   "metadata": {},
   "outputs": [],
   "source": [
    "from tkinter import *\n",
    "from tkinter import ttk\n",
    "window = Tk()\n",
    "window.title(\"Tkinter Fonts\")\n",
    "window.geometry(\"800x800\")\n",
    "\n",
    "\n",
    "#LABEL WIDGET\n",
    "label = Label(window, text = \"THIS IS A LABEL\", font = 100)\n",
    "\n",
    "#CHECKBOXES\n",
    "checkbutton = Checkbutton(window, text =\"I AM A CHECKBUTTON, YOU CAN CHECK ME!\")\n",
    "\n",
    "#RADIOBUTTON widget\n",
    "radiobutton = Radiobutton(window, text= \"I AM A RADIOBUTTON, YOU CAN SELECT ME!\")\n",
    "\n",
    "#ENTRY WIDGET\n",
    "entry = Entry(window)\n",
    "\n",
    "#BUTTON WIDGET\n",
    "button = Button(window,text = \"SUBMIT\")\n",
    "\n",
    "#COMBOBOX WIDGET\n",
    "combobox = ttk.Combobox(window, values=[\"option1\", \"option2\", \"option3\"],\n",
    "        )\n",
    "\n",
    "#LISTBOX WIDGET\n",
    "listbox = Listbox(window)\n",
    "courses = [\"BSCPE\", \"BSCE\", \"BSEE\", \"BSIE\", \"BSME\"]\n",
    "for course in courses:\n",
    "    listbox.insert(END, course)\n",
    "\n",
    "#TEXT WIDGET\n",
    "textt= Text(window, height=10, width=20)\n",
    "\n",
    "#LIST OF WIDGETS\n",
    "widgets = [label, checkbutton, radiobutton, entry, button, combobox, combobox, listbox, textt]\n",
    "\n",
    "#FOR LOOP TO PACK ALL WIDGET in WIDGETS LIST\n",
    "for widget in widgets:\n",
    "    widget.pack(pady=15)\n",
    "    \n",
    "\"\"\"\n",
    "for widget in widgets:\n",
    "    widget.configure(foreground = \"red\")\n",
    "    widget.configure(background = \"#000000\")\n",
    "    widget.configure(background = \"#000000\")\n",
    "\"\"\"\n",
    "\n",
    "window.mainloop()"
   ]
  },
  {
   "cell_type": "code",
   "execution_count": null,
   "id": "887cf303",
   "metadata": {},
   "outputs": [],
   "source": []
  }
 ],
 "metadata": {
  "kernelspec": {
   "display_name": "Python 3",
   "language": "python",
   "name": "python3"
  },
  "language_info": {
   "codemirror_mode": {
    "name": "ipython",
    "version": 3
   },
   "file_extension": ".py",
   "mimetype": "text/x-python",
   "name": "python",
   "nbconvert_exporter": "python",
   "pygments_lexer": "ipython3",
   "version": "3.13.1"
  }
 },
 "nbformat": 4,
 "nbformat_minor": 5
}
