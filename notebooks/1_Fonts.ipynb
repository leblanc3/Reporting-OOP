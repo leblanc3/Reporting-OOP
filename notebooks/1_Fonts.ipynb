{
 "cells": [
  {
   "cell_type": "markdown",
   "id": "0d586305",
   "metadata": {},
   "source": [
    "# **Tkinter Fonts, Colors, and Images**\n",
    "\n",
    "##  **I. Fonts**\n"
   ]
  },
  {
   "cell_type": "markdown",
   "id": "f73a9237",
   "metadata": {},
   "source": [
    "### Font Configuration"
   ]
  },
  {
   "cell_type": "markdown",
   "id": "f5cc543a",
   "metadata": {},
   "source": [
    "```font=(family, size, weight, slant)```"
   ]
  },
  {
   "cell_type": "code",
   "execution_count": 76,
   "id": "6fa87a3d",
   "metadata": {},
   "outputs": [],
   "source": [
    "from tkinter import *\n",
    "from tkinter import font\n",
    "\n",
    "window = Tk()\n",
    "window.geometry(\"300x200\")\n",
    "\n",
    "Label(window, text=\"Styled Text\", font=(\"Helvetica\", 12, \"normal\", \"roman\")).pack()\n",
    "window.mainloop()"
   ]
  },
  {
   "cell_type": "markdown",
   "id": "7fb2a561",
   "metadata": {},
   "source": [
    "```Font(family, size, weight, slant, underline, overstrike)```"
   ]
  },
  {
   "cell_type": "code",
   "execution_count": null,
   "id": "4f457ca7",
   "metadata": {},
   "outputs": [],
   "source": [
    "from tkinter import *\n",
    "from tkinter import font\n",
    "\n",
    "window = Tk()\n",
    "window.geometry(\"300x200\")\n",
    "\n",
    "custom_font = font.Font(\n",
    "    family=\"Helvetica\", # Font family - e.g., \"Helvetica\", \"Arial\", \"Times New Roman\"\n",
    "    size=12, # Font size - can be an integer or a string with units (e.g., \"12\", \"12px\")\n",
    "    weight=\"normal\", # Font weight - \"normal\" for regular, \"bold\" for bold\n",
    "    slant=\"roman\", # Font slant - \"roman\" for upright, \"italic\" for italic\n",
    "    underline=0, # Underline - 0 for no underline, 1 for underline\n",
    "    overstrike=0 # Overstrike - 0 for no overstrike, 1 for overstrike\n",
    ")\n",
    "\n",
    "Label(window, text=\"Styled Text\", font=custom_font).pack()\n",
    "window.mainloop()"
   ]
  },
  {
   "cell_type": "markdown",
   "id": "41fb8b31",
   "metadata": {},
   "source": [
    "### ```Font()``` Object Methods"
   ]
  },
  {
   "cell_type": "markdown",
   "id": "6d1cfabb",
   "metadata": {},
   "source": [
    "```.actual()```"
   ]
  },
  {
   "cell_type": "code",
   "execution_count": null,
   "id": "4c8825a0",
   "metadata": {},
   "outputs": [],
   "source": [
    "from tkinter import *\n",
    "from tkinter import font\n",
    "\n",
    "window = Tk()\n",
    "window.geometry(\"300x200\")\n",
    "\n",
    "font_obj = font.Font(family=\"Helvetica\", size=12)\n",
    "actual = font_obj.actual()\n",
    "print(actual)\n",
    "\n",
    "Label(window, text=\"Hello World\", font=font_obj).pack()\n",
    "window.mainloop()"
   ]
  },
  {
   "cell_type": "markdown",
   "id": "d55a8c4e",
   "metadata": {},
   "source": [
    "```.configure(family, size, weight, slant, undeline, overstrike)```\n"
   ]
  },
  {
   "cell_type": "code",
   "execution_count": null,
   "id": "914c1056",
   "metadata": {},
   "outputs": [],
   "source": [
    "from tkinter import *\n",
    "from tkinter import font\n",
    "\n",
    "window = Tk()\n",
    "window.geometry(\"300x200\")\n",
    "\n",
    "font_obj = font.Font(family=\"Helvetica\", size=12)\n",
    "font_obj.configure(size=16, weight=\"bold\")\n",
    "\n",
    "Label(window, text=\"Bold Text\", font=font_obj).pack()\n",
    "window.mainloop()"
   ]
  },
  {
   "cell_type": "markdown",
   "id": "cb047676",
   "metadata": {},
   "source": [
    "```.measure()```\n"
   ]
  },
  {
   "cell_type": "code",
   "execution_count": null,
   "id": "483e1f3f",
   "metadata": {},
   "outputs": [],
   "source": [
    "from tkinter import *\n",
    "from tkinter import font\n",
    "\n",
    "window = Tk()\n",
    "\n",
    "font_obj = font.Font(family=\"Helvetica\", size=12)\n",
    "width_px = font_obj.measure(\"Hello World\")\n",
    "print(width_px)\n",
    "\n",
    "window.destroy()"
   ]
  },
  {
   "cell_type": "markdown",
   "id": "f213c0b0",
   "metadata": {},
   "source": [
    "```.metrics()```"
   ]
  },
  {
   "cell_type": "code",
   "execution_count": null,
   "id": "5e6d9fc2",
   "metadata": {},
   "outputs": [],
   "source": [
    "from tkinter import *\n",
    "from tkinter import font\n",
    "\n",
    "window = Tk()\n",
    "\n",
    "font_obj = font.Font(family=\"Helvetica\", size=12)\n",
    "metrics = font_obj.metrics()\n",
    "print(metrics)\n",
    "\n",
    "window.destroy()"
   ]
  },
  {
   "cell_type": "markdown",
   "id": "636aea72",
   "metadata": {},
   "source": [
    "### ```font``` Module Functions"
   ]
  },
  {
   "cell_type": "markdown",
   "id": "fc22e5c7",
   "metadata": {},
   "source": [
    "```.families()```"
   ]
  },
  {
   "cell_type": "code",
   "execution_count": 1,
   "id": "ab4b4594",
   "metadata": {},
   "outputs": [
    {
     "name": "stdout",
     "output_type": "stream",
     "text": [
      "('System', '8514oem', 'Fixedsys', 'Terminal', 'Modern', 'Roman', 'Script', 'Courier', 'MS Serif', 'MS Sans Serif', 'Small Fonts', 'Marlett', 'Arial', 'Arabic Transparent', 'Arial Baltic', 'Arial CE', 'Arial CYR', 'Arial Greek', 'Arial TUR', 'Arial Black', 'Bahnschrift Light', 'Bahnschrift SemiLight', 'Bahnschrift', 'Bahnschrift SemiBold', 'Bahnschrift Light SemiCondensed', 'Bahnschrift SemiLight SemiConde', 'Bahnschrift SemiCondensed', 'Bahnschrift SemiBold SemiConden', 'Bahnschrift Light Condensed', 'Bahnschrift SemiLight Condensed', 'Bahnschrift Condensed', 'Bahnschrift SemiBold Condensed', 'Calibri', 'Calibri Light', 'Cambria', 'Cambria Math', 'Candara', 'Candara Light', 'Comic Sans MS', 'Consolas', 'Constantia', 'Corbel', 'Corbel Light', 'Courier New', 'Courier New Baltic', 'Courier New CE', 'Courier New CYR', 'Courier New Greek', 'Courier New TUR', 'Ebrima', 'Franklin Gothic Medium', 'Gabriola', 'Gadugi', 'Georgia', 'Impact', 'Ink Free', 'Javanese Text', 'Leelawadee UI', 'Leelawadee UI Semilight', 'Lucida Console', 'Lucida Sans Unicode', 'Malgun Gothic', '@Malgun Gothic', 'Malgun Gothic Semilight', '@Malgun Gothic Semilight', 'Microsoft Himalaya', 'Microsoft JhengHei', '@Microsoft JhengHei', 'Microsoft JhengHei UI', '@Microsoft JhengHei UI', 'Microsoft JhengHei Light', '@Microsoft JhengHei Light', 'Microsoft JhengHei UI Light', '@Microsoft JhengHei UI Light', 'Microsoft New Tai Lue', 'Microsoft PhagsPa', 'Microsoft Sans Serif', 'Microsoft Tai Le', 'Microsoft YaHei', '@Microsoft YaHei', 'Microsoft YaHei UI', '@Microsoft YaHei UI', 'Microsoft YaHei Light', '@Microsoft YaHei Light', 'Microsoft YaHei UI Light', '@Microsoft YaHei UI Light', 'Microsoft Yi Baiti', 'MingLiU-ExtB', '@MingLiU-ExtB', 'PMingLiU-ExtB', '@PMingLiU-ExtB', 'MingLiU_HKSCS-ExtB', '@MingLiU_HKSCS-ExtB', 'Mongolian Baiti', 'MS Gothic', '@MS Gothic', 'MS UI Gothic', '@MS UI Gothic', 'MS PGothic', '@MS PGothic', 'MV Boli', 'Myanmar Text', 'Nirmala UI', 'Nirmala UI Semilight', 'Palatino Linotype', 'Segoe MDL2 Assets', 'Segoe Print', 'Segoe Script', 'Segoe UI', 'Segoe UI Black', 'Segoe UI Emoji', 'Segoe UI Historic', 'Segoe UI Light', 'Segoe UI Semibold', 'Segoe UI Semilight', 'Segoe UI Symbol', 'SimSun', '@SimSun', 'NSimSun', '@NSimSun', 'SimSun-ExtB', '@SimSun-ExtB', 'Sitka Small', 'Sitka Text', 'Sitka Subheading', 'Sitka Heading', 'Sitka Display', 'Sitka Banner', 'Sylfaen', 'Symbol', 'Tahoma', 'Times New Roman', 'Times New Roman Baltic', 'Times New Roman CE', 'Times New Roman CYR', 'Times New Roman Greek', 'Times New Roman TUR', 'Trebuchet MS', 'Verdana', 'Webdings', 'Wingdings', 'Yu Gothic', '@Yu Gothic', 'Yu Gothic UI', '@Yu Gothic UI', 'Yu Gothic UI Semibold', '@Yu Gothic UI Semibold', 'Yu Gothic Light', '@Yu Gothic Light', 'Yu Gothic UI Light', '@Yu Gothic UI Light', 'Yu Gothic Medium', '@Yu Gothic Medium', 'Yu Gothic UI Semilight', '@Yu Gothic UI Semilight', 'HoloLens MDL2 Assets', 'Agency FB', 'Algerian', 'Book Antiqua', 'Arial Narrow', 'Arial Rounded MT Bold', 'Baskerville Old Face', 'Bauhaus 93', 'Bell MT', 'Bernard MT Condensed', 'Bodoni MT', 'Bodoni MT Black', 'Bodoni MT Condensed', 'Bodoni MT Poster Compressed', 'Bookman Old Style', 'Bradley Hand ITC', 'Britannic Bold', 'Berlin Sans FB', 'Berlin Sans FB Demi', 'Broadway', 'Brush Script MT', 'Bookshelf Symbol 7', 'Californian FB', 'Calisto MT', 'Castellar', 'Century Schoolbook', 'Centaur', 'Century', 'Chiller', 'Colonna MT', 'Cooper Black', 'Copperplate Gothic Bold', 'Copperplate Gothic Light', 'Curlz MT', 'Dubai', 'Dubai Light', 'Dubai Medium', 'Elephant', 'Engravers MT', 'Eras Bold ITC', 'Eras Demi ITC', 'Eras Light ITC', 'Eras Medium ITC', 'Felix Titling', 'Forte', 'Franklin Gothic Book', 'Franklin Gothic Demi', 'Franklin Gothic Demi Cond', 'Franklin Gothic Heavy', 'Franklin Gothic Medium Cond', 'Freestyle Script', 'French Script MT', 'Footlight MT Light', 'Garamond', 'Gigi', 'Gill Sans MT', 'Gill Sans MT Condensed', 'Gill Sans Ultra Bold Condensed', 'Gill Sans Ultra Bold', 'Gloucester MT Extra Condensed', 'Gill Sans MT Ext Condensed Bold', 'Century Gothic', 'Goudy Old Style', 'Goudy Stout', 'Harlow Solid Italic', 'Harrington', 'Haettenschweiler', 'High Tower Text', 'Imprint MT Shadow', 'Informal Roman', 'Blackadder ITC', 'Edwardian Script ITC', 'Kristen ITC', 'Jokerman', 'Juice ITC', 'Kunstler Script', 'Wide Latin', 'Lucida Bright', 'Lucida Calligraphy', 'Lucida Fax', 'Lucida Handwriting', 'Lucida Sans', 'Lucida Sans Typewriter', 'Magneto', 'Maiandra GD', 'Matura MT Script Capitals', 'Mistral', 'Modern No. 20', 'Monotype Corsiva', 'MT Extra', 'Niagara Engraved', 'Niagara Solid', 'OCR A Extended', 'Old English Text MT', 'Onyx', 'MS Outlook', 'Palace Script MT', 'Papyrus', 'Parchment', 'Perpetua', 'Perpetua Titling MT', 'Playbill', 'Poor Richard', 'Pristina', 'Rage Italic', 'Ravie', 'MS Reference Sans Serif', 'MS Reference Specialty', 'Rockwell Condensed', 'Rockwell', 'Rockwell Extra Bold', 'Script MT Bold', 'Showcard Gothic', 'Snap ITC', 'Stencil', 'Tw Cen MT', 'Tw Cen MT Condensed', 'Tw Cen MT Condensed Extra Bold', 'Tempus Sans ITC', 'Viner Hand ITC', 'Vivaldi', 'Vladimir Script', 'Wingdings 2', 'Wingdings 3', 'SimSun-ExtG', '@SimSun-ExtG', 'ISOCP3', 'Artifakt Element', 'Artifakt Element Medium', 'Arial Unicode MS', '@Arial Unicode MS', 'Complex', 'Artifakt Element Black', 'CountryBlueprint', 'Artifakt Element Hair', 'CityBlueprint', 'EuroRoman', 'AIGDT', 'Swis721 BdOul BT', 'Artifakt Element Book', 'GENISO', 'Swis721 BT', 'RomanC', 'GothicE', 'AMGDT', 'AcadEref', 'GothicG', 'AmdtSymbols', 'ISOCT2', 'ISOCTEUR', 'ISOCP2', 'Dutch801 Rm BT', 'ISOCPEUR', 'RomanT', 'Artifakt Element Heavy', 'Artifakt Element Thin', 'ISOCT3', 'Swis721 BdCnOul BT', 'Monotxt', 'Artifakt Element Light', 'SansSerif', 'Romantic', 'RomanS', 'ItalicT', 'PanRoman', 'GDT', 'GothicI', 'Italic', 'ItalicC', 'Proxy 8', 'Proxy 6', 'RomanD', 'Proxy 5', 'Proxy 4', 'Proxy 3', 'Proxy 9', 'Proxy 7', 'ISOCP', 'ISOCT', 'GreekC', 'GreekS', 'Vineta BT', 'CommercialScript BT', 'Swis721 BlkOul BT', 'ScriptC', 'ScriptS', 'Technic', 'TechnicBold', 'Simplex', 'TechnicLite', 'Stylus BT', 'SuperFrench', 'Dutch801 XBd BT', 'Monospac821 BT', 'Swis721 BlkEx BT', 'Swis721 BlkCn BT', 'Proxy 2', 'Proxy 1', 'Swis721 Cn BT', 'Swis721 Ex BT', 'Swis721 LtCn BT', 'Txt', 'Swis721 Blk BT', 'Swis721 LtEx BT', 'Swis721 Lt BT', 'BankGothic Md BT', 'Syastro', 'BankGothic Lt BT', 'Symap', 'Symusic', 'CommercialPi BT', 'Symath', 'Symeteo', 'UniversalMath1 BT')\n"
     ]
    }
   ],
   "source": [
    "from tkinter import *\n",
    "from tkinter import font\n",
    "\n",
    "window = Tk()\n",
    "\n",
    "families = font.families()\n",
    "print(families)\n",
    "\n",
    "window.destroy()"
   ]
  },
  {
   "cell_type": "markdown",
   "id": "3ca87601",
   "metadata": {},
   "source": [
    "```.names()```"
   ]
  },
  {
   "cell_type": "code",
   "execution_count": null,
   "id": "dda3f284",
   "metadata": {},
   "outputs": [],
   "source": [
    "from tkinter import *\n",
    "from tkinter import font\n",
    "\n",
    "window = Tk()\n",
    "\n",
    "names = font.names()\n",
    "print(names)\n",
    "\n",
    "window.destroy()"
   ]
  },
  {
   "cell_type": "markdown",
   "id": "771b73e3",
   "metadata": {},
   "source": [
    "```.nametofont()```"
   ]
  },
  {
   "cell_type": "code",
   "execution_count": null,
   "id": "a828d623",
   "metadata": {},
   "outputs": [],
   "source": [
    "from tkinter import *\n",
    "from tkinter import font\n",
    "\n",
    "window = Tk()\n",
    "\n",
    "# myFont = font.Font(name=\"MyFont\", family=\"Arial\", size=24)\n",
    "# Label(window, text=\"Custom Font\", font=\"MyFont\").pack()\n",
    "\n",
    "named_font = font.nametofont(\"TkDefaultFont\")\n",
    "print(named_font.actual())\n",
    "\n",
    "window.destroy()"
   ]
  },
  {
   "cell_type": "markdown",
   "id": "8c778ba9",
   "metadata": {},
   "source": [
    "### Widgets With Font Option"
   ]
  },
  {
   "cell_type": "code",
   "execution_count": 77,
   "id": "e5fb9f16",
   "metadata": {},
   "outputs": [],
   "source": [
    "from tkinter import *\n",
    "from tkinter import font\n",
    "from tkinter import ttk\n",
    "\n",
    "window = Tk()\n",
    "window.geometry(\"500x400\")\n",
    "\n",
    "custom_font = font.Font(family=\"Arial\", \n",
    "                        size=11, \n",
    "                        weight=\"bold\",\n",
    "                        slant=\"italic\",\n",
    "                        underline=1,\n",
    "                        overstrike=0)\n",
    "\n",
    "# custom_font = (\"Arial\", 11, \"bold\") # Alternative way to define font using a tuple\n",
    "\n",
    "# Label\n",
    "Label(window, text=\"Label\", font=custom_font).pack(pady=5)\n",
    "\n",
    "# Button\n",
    "Button(window, text=\"Button\", font=custom_font).pack(pady=5)\n",
    "\n",
    "# Checkbutton\n",
    "Checkbutton(window, text=\"Checkbutton\", font=custom_font).pack(pady=5)\n",
    "\n",
    "# Radiobutton\n",
    "Radiobutton(window, text=\"Radiobutton\", font=custom_font).pack(pady=5)\n",
    "\n",
    "# Entry\n",
    "entry = Entry(window, font=custom_font)\n",
    "entry.insert(0, \"Entry\")\n",
    "entry.pack(pady=5)\n",
    "\n",
    "# Combobox\n",
    "combo = ttk.Combobox(window, font=custom_font, values=[\"Combobox\", \"Option 1\", \"Option 2\", \"Option 3\"])\n",
    "combo.current(0)\n",
    "combo.pack(pady=5)\n",
    "\n",
    "# Listbox\n",
    "listbox = Listbox(window, font=custom_font, height=3)\n",
    "listbox.insert(END, \"Listbox\")\n",
    "listbox.insert(END, \"Item 1\")\n",
    "listbox.insert(END, \"Item 2\")\n",
    "listbox.insert(END, \"Item 3\")\n",
    "listbox.pack(pady=5)\n",
    "\n",
    "# Text\n",
    "text = Text(window, font=custom_font, height=3)\n",
    "text.insert(END, \"Text\")\n",
    "text.pack(pady=5)\n",
    "\n",
    "window.mainloop()"
   ]
  },
  {
   "cell_type": "markdown",
   "id": "ce4d1437",
   "metadata": {},
   "source": [
    "Renier"
   ]
  },
  {
   "cell_type": "code",
   "execution_count": null,
   "id": "3fe4bb36",
   "metadata": {},
   "outputs": [],
   "source": [
    "from tkinter import *\n",
    "from tkinter import font\n",
    "\n",
    "window = Tk()\n",
    "window.title(\"Tkinter Fonts\")\n",
    "window.geometry(\"300x300\")\n",
    "\n",
    "#User created named fonts\n",
    "my_font = font.Font(family =\"Times New Roman\", \n",
    "                size =20, \n",
    "                weight = \"bold\",\n",
    "                slant = \"roman\",\n",
    "                underline= 0,\n",
    "                overstrike= 1\n",
    "                )\n",
    "\n",
    "#LABEL WIDGET\n",
    "label = Label(window, text = \"THIS IS A LABEL\",\n",
    "             #font=(\"Helvetica\", 14, \"italic\") #\n",
    "             #font=my_font\n",
    "             )\n",
    "\n",
    "#label.configure(font = my_font)\n",
    "label.pack(pady=50)\n",
    "window.mainloop()"
   ]
  },
  {
   "cell_type": "code",
   "execution_count": 32,
   "id": "0e66d92f",
   "metadata": {},
   "outputs": [],
   "source": [
    "from tkinter import *\n",
    "from tkinter import ttk\n",
    "from tkinter import font\n",
    "\n",
    "window = Tk()\n",
    "window.title(\"Tkinter Fonts\")\n",
    "window.geometry(\"800x800\")\n",
    "\n",
    "#User created named fonts\n",
    "my_font = font.Font(family =\"Times New Roman\", \n",
    "                size =15, \n",
    "                weight = \"bold\",\n",
    "                slant = \"italic\",\n",
    "                underline= 1,\n",
    "                overstrike= 0\n",
    "                )\n",
    "\n",
    "#LABEL WIDGET\n",
    "label = Label(window, text = \"THIS IS A LABEL\")\n",
    "\n",
    "#CHECKBOXES\n",
    "checkbutton = Checkbutton(window, text =\"I AM A CHECKBUTTON, YOU CAN CHECK ME!\")\n",
    "\n",
    "#RADIOBUTTON widget\n",
    "radiobutton = Radiobutton(window, text= \"I AM A RADIOBUTTON, YOU CAN SELECT ME!\")\n",
    "\n",
    "#ENTRY WIDGET\n",
    "entry = Entry(window)\n",
    "\n",
    "#BUTTON WIDGET\n",
    "button = Button(window,text = \"SUBMIT\")\n",
    "\n",
    "#COMBOBOX WIDGET\n",
    "combobox = ttk.Combobox(window, values=[\"option1\", \"option2\", \"option3\"])\n",
    "\n",
    "#LISTBOX WIDGET\n",
    "listbox = Listbox(window)\n",
    "courses = [\"BSCPE\", \"BSCE\", \"BSEE\", \"BSIE\", \"BSME\"]\n",
    "for course in courses:\n",
    "    listbox.insert(END, course)\n",
    "\n",
    "#TEXT WIDGET\n",
    "textt= Text(window, height=10, width=20)\n",
    "\n",
    "#LIST OF WIDGETS\n",
    "widgets = [label, checkbutton, radiobutton, entry, button, combobox, combobox, listbox, textt]\n",
    "\n",
    "#FOR LOOP TO PACK ALL WIDGET in WIDGETS LIST\n",
    "for widget in widgets:\n",
    "    widget.pack(pady=15)\n",
    "\n",
    "#To Show Configurable Options in Fonts\n",
    "for widget in widgets:\n",
    "    widget.configure(font=my_font)\n",
    "\n",
    "\n",
    "window.mainloop()"
   ]
  }
 ],
 "metadata": {
  "kernelspec": {
   "display_name": "Python 3",
   "language": "python",
   "name": "python3"
  },
  "language_info": {
   "codemirror_mode": {
    "name": "ipython",
    "version": 3
   },
   "file_extension": ".py",
   "mimetype": "text/x-python",
   "name": "python",
   "nbconvert_exporter": "python",
   "pygments_lexer": "ipython3",
   "version": "3.13.1"
  }
 },
 "nbformat": 4,
 "nbformat_minor": 5
}
