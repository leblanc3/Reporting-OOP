{
 "cells": [
  {
   "cell_type": "markdown",
   "id": "0d586305",
   "metadata": {},
   "source": [
    "# **Tkinter Fonts, Colors, and Images**\n",
    "\n",
    "##  **I. Fonts**\n"
   ]
  },
  {
   "cell_type": "markdown",
   "id": "f73a9237",
   "metadata": {},
   "source": [
    "### Font Configuration"
   ]
  },
  {
   "cell_type": "markdown",
   "id": "f5cc543a",
   "metadata": {},
   "source": [
    "```font=(family, size, weight, slant)```"
   ]
  },
  {
   "cell_type": "code",
   "execution_count": null,
   "id": "6fa87a3d",
   "metadata": {},
   "outputs": [],
   "source": [
    "from tkinter import *\n",
    "from tkinter import font\n",
    "\n",
    "window = Tk()\n",
    "window.geometry(\"300x200\")\n",
    "\n",
    "Label(window, text=\"Styled Text\", font=(\"Helvetica\", 12, \"normal\", \"roman\")).pack()\n",
    "window.mainloop()"
   ]
  },
  {
   "cell_type": "markdown",
   "id": "7fb2a561",
   "metadata": {},
   "source": [
    "```Font(family, size, weight, slant, underline, overstrike)```"
   ]
  },
  {
   "cell_type": "code",
   "execution_count": null,
   "id": "4f457ca7",
   "metadata": {},
   "outputs": [],
   "source": [
    "from tkinter import *\n",
    "from tkinter import font\n",
    "\n",
    "window = Tk()\n",
    "window.geometry(\"300x200\")\n",
    "\n",
    "custom_font = font.Font(\n",
    "    family=\"Helvetica\", # Font family - e.g., \"Helvetica\", \"Arial\", \"Times New Roman\"\n",
    "    size=12, # Font size - can be an integer or a string with units (e.g., \"12\", \"12px\")\n",
    "    weight=\"normal\", # Font weight - \"normal\" for regular, \"bold\" for bold\n",
    "    slant=\"roman\", # Font slant - \"roman\" for upright, \"italic\" for italic\n",
    "    underline=0, # Underline - 0 for no underline, 1 for underline\n",
    "    overstrike=0 # Overstrike - 0 for no overstrike, 1 for overstrike\n",
    ")\n",
    "\n",
    "Label(window, text=\"Styled Text\", font=custom_font).pack()\n",
    "window.mainloop()"
   ]
  },
  {
   "cell_type": "markdown",
   "id": "41fb8b31",
   "metadata": {},
   "source": [
    "### ```Font()``` Object Methods"
   ]
  },
  {
   "cell_type": "markdown",
   "id": "6d1cfabb",
   "metadata": {},
   "source": [
    "```.actual()```"
   ]
  },
  {
   "cell_type": "code",
   "execution_count": null,
   "id": "4c8825a0",
   "metadata": {},
   "outputs": [],
   "source": [
    "from tkinter import *\n",
    "from tkinter import font\n",
    "\n",
    "window = Tk()\n",
    "window.geometry(\"300x200\")\n",
    "\n",
    "font_obj = font.Font(family=\"Helvetica\", size=12)\n",
    "actual = font_obj.actual()\n",
    "print(actual)\n",
    "\n",
    "Label(window, text=\"Hello World\", font=font_obj).pack()\n",
    "window.mainloop()"
   ]
  },
  {
   "cell_type": "markdown",
   "id": "d55a8c4e",
   "metadata": {},
   "source": [
    "```.configure(family, size, weight, slant, undeline, overstrike)```\n"
   ]
  },
  {
   "cell_type": "code",
   "execution_count": null,
   "id": "914c1056",
   "metadata": {},
   "outputs": [],
   "source": [
    "from tkinter import *\n",
    "from tkinter import font\n",
    "\n",
    "window = Tk()\n",
    "window.geometry(\"300x200\")\n",
    "\n",
    "font_obj = font.Font(family=\"Helvetica\", size=12)\n",
    "font_obj.configure(size=16, weight=\"bold\")\n",
    "\n",
    "Label(window, text=\"Bold Text\", font=font_obj).pack()\n",
    "window.mainloop()"
   ]
  },
  {
   "cell_type": "markdown",
   "id": "cb047676",
   "metadata": {},
   "source": [
    "```.measure()```\n"
   ]
  },
  {
   "cell_type": "code",
   "execution_count": null,
   "id": "483e1f3f",
   "metadata": {},
   "outputs": [],
   "source": [
    "from tkinter import *\n",
    "from tkinter import font\n",
    "\n",
    "window = Tk()\n",
    "\n",
    "font_obj = font.Font(family=\"Helvetica\", size=12)\n",
    "width_px = font_obj.measure(\"Hello World\")\n",
    "print(width_px)\n",
    "\n",
    "window.destroy()"
   ]
  },
  {
   "cell_type": "markdown",
   "id": "f213c0b0",
   "metadata": {},
   "source": [
    "```.metrics()```"
   ]
  },
  {
   "cell_type": "code",
   "execution_count": null,
   "id": "5e6d9fc2",
   "metadata": {},
   "outputs": [],
   "source": [
    "from tkinter import *\n",
    "from tkinter import font\n",
    "\n",
    "window = Tk()\n",
    "\n",
    "font_obj = font.Font(family=\"Helvetica\", size=12)\n",
    "metrics = font_obj.metrics()\n",
    "print(metrics)\n",
    "\n",
    "window.destroy()"
   ]
  },
  {
   "cell_type": "markdown",
   "id": "636aea72",
   "metadata": {},
   "source": [
    "### ```font``` Module Functions"
   ]
  },
  {
   "cell_type": "markdown",
   "id": "fc22e5c7",
   "metadata": {},
   "source": [
    "```.families()```"
   ]
  },
  {
   "cell_type": "code",
   "execution_count": null,
   "id": "ab4b4594",
   "metadata": {},
   "outputs": [],
   "source": [
    "from tkinter import *\n",
    "from tkinter import font\n",
    "\n",
    "window = Tk()\n",
    "\n",
    "families = font.families()\n",
    "print(families)\n",
    "\n",
    "window.destroy()"
   ]
  },
  {
   "cell_type": "markdown",
   "id": "3ca87601",
   "metadata": {},
   "source": [
    "```.names()```"
   ]
  },
  {
   "cell_type": "code",
   "execution_count": null,
   "id": "dda3f284",
   "metadata": {},
   "outputs": [],
   "source": [
    "from tkinter import *\n",
    "from tkinter import font\n",
    "\n",
    "window = Tk()\n",
    "\n",
    "names = font.names()\n",
    "print(names)\n",
    "\n",
    "window.destroy()"
   ]
  },
  {
   "cell_type": "markdown",
   "id": "771b73e3",
   "metadata": {},
   "source": [
    "```.nametofont()```"
   ]
  },
  {
   "cell_type": "code",
   "execution_count": null,
   "id": "a828d623",
   "metadata": {},
   "outputs": [],
   "source": [
    "from tkinter import *\n",
    "from tkinter import font\n",
    "\n",
    "window = Tk()\n",
    "\n",
    "# myFont = font.Font(name=\"MyFont\", family=\"Arial\", size=24)\n",
    "# Label(window, text=\"Custom Font\", font=\"MyFont\").pack()\n",
    "\n",
    "named_font = font.nametofont(\"TkDefaultFont\")\n",
    "print(named_font.actual())\n",
    "\n",
    "window.destroy()"
   ]
  },
  {
   "cell_type": "markdown",
   "id": "8c778ba9",
   "metadata": {},
   "source": [
    "### Widgets With ```font``` Option"
   ]
  },
  {
   "cell_type": "code",
   "execution_count": null,
   "id": "e5fb9f16",
   "metadata": {},
   "outputs": [],
   "source": [
    "from tkinter import *\n",
    "from tkinter import font\n",
    "from tkinter import ttk\n",
    "\n",
    "window = Tk()\n",
    "window.geometry(\"500x400\")\n",
    "\n",
    "custom_font = font.Font(family=\"Arial\", \n",
    "                        size=11, \n",
    "                        weight=\"bold\",\n",
    "                        slant=\"italic\",\n",
    "                        underline=1,\n",
    "                        overstrike=0)\n",
    "\n",
    "# custom_font = (\"Arial\", 11, \"bold\") # Alternative way to define font using a tuple\n",
    "\n",
    "# Label\n",
    "Label(window, text=\"Label\", font=custom_font).pack(pady=5)\n",
    "\n",
    "# Button\n",
    "Button(window, text=\"Button\", font=custom_font).pack(pady=5)\n",
    "\n",
    "# Checkbutton\n",
    "Checkbutton(window, text=\"Checkbutton\", font=custom_font).pack(pady=5)\n",
    "\n",
    "# Radiobutton\n",
    "Radiobutton(window, text=\"Radiobutton\", font=custom_font).pack(pady=5)\n",
    "\n",
    "# Entry\n",
    "entry = Entry(window, font=custom_font)\n",
    "entry.insert(0, \"Entry\")\n",
    "entry.pack(pady=5)\n",
    "\n",
    "# Combobox\n",
    "combo = ttk.Combobox(window, font=custom_font, values=[\"Combobox\", \"Option 1\", \"Option 2\", \"Option 3\"])\n",
    "combo.current(0)\n",
    "combo.pack(pady=5)\n",
    "\n",
    "# Listbox\n",
    "listbox = Listbox(window, font=custom_font, height=3)\n",
    "listbox.insert(END, \"Listbox\")\n",
    "listbox.insert(END, \"Item 1\")\n",
    "listbox.insert(END, \"Item 2\")\n",
    "listbox.insert(END, \"Item 3\")\n",
    "listbox.pack(pady=5)\n",
    "\n",
    "# Text\n",
    "text = Text(window, font=custom_font, height=3)\n",
    "text.insert(END, \"Text\")\n",
    "text.pack(pady=5)\n",
    "\n",
    "window.mainloop()"
   ]
  },
  {
   "cell_type": "markdown",
   "id": "ce4d1437",
   "metadata": {},
   "source": [
    "Renier"
   ]
  },
  {
   "cell_type": "code",
   "execution_count": null,
   "id": "3fe4bb36",
   "metadata": {},
   "outputs": [],
   "source": [
    "from tkinter import *\n",
    "from tkinter import font\n",
    "\n",
    "window = Tk()\n",
    "window.title(\"Tkinter Fonts\")\n",
    "window.geometry(\"300x300\")\n",
    "\n",
    "#User created named fonts\n",
    "my_font = font.Font(family =\"Times New Roman\", \n",
    "                size =20, \n",
    "                weight = \"bold\",\n",
    "                slant = \"roman\",\n",
    "                underline= 0,\n",
    "                overstrike= 1\n",
    "                )\n",
    "\n",
    "#LABEL WIDGET\n",
    "label = Label(window, text = \"THIS IS A LABEL\",\n",
    "             #font=(\"Helvetica\", 14, \"italic\") #\n",
    "             #font=my_font\n",
    "             )\n",
    "\n",
    "#label.configure(font = my_font)\n",
    "label.pack(pady=50)\n",
    "window.mainloop()"
   ]
  },
  {
   "cell_type": "code",
   "execution_count": null,
   "id": "0e66d92f",
   "metadata": {},
   "outputs": [],
   "source": [
    "from tkinter import *\n",
    "from tkinter import ttk\n",
    "from tkinter import font\n",
    "\n",
    "window = Tk()\n",
    "window.title(\"Tkinter Fonts\")\n",
    "window.geometry(\"800x800\")\n",
    "\n",
    "#User created named fonts\n",
    "my_font = font.Font(family =\"Times New Roman\", \n",
    "                size =15, \n",
    "                weight = \"bold\",\n",
    "                slant = \"italic\",\n",
    "                underline= 1,\n",
    "                overstrike= 0\n",
    "                )\n",
    "\n",
    "#LABEL WIDGET\n",
    "label = Label(window, text = \"THIS IS A LABEL\")\n",
    "\n",
    "#CHECKBOXES\n",
    "checkbutton = Checkbutton(window, text =\"I AM A CHECKBUTTON, YOU CAN CHECK ME!\")\n",
    "\n",
    "#RADIOBUTTON widget\n",
    "radiobutton = Radiobutton(window, text= \"I AM A RADIOBUTTON, YOU CAN SELECT ME!\")\n",
    "\n",
    "#ENTRY WIDGET\n",
    "entry = Entry(window)\n",
    "\n",
    "#BUTTON WIDGET\n",
    "button = Button(window,text = \"SUBMIT\")\n",
    "\n",
    "#COMBOBOX WIDGET\n",
    "combobox = ttk.Combobox(window, values=[\"option1\", \"option2\", \"option3\"])\n",
    "\n",
    "#LISTBOX WIDGET\n",
    "listbox = Listbox(window)\n",
    "courses = [\"BSCPE\", \"BSCE\", \"BSEE\", \"BSIE\", \"BSME\"]\n",
    "for course in courses:\n",
    "    listbox.insert(END, course)\n",
    "\n",
    "#TEXT WIDGET\n",
    "textt= Text(window, height=10, width=20)\n",
    "\n",
    "#LIST OF WIDGETS\n",
    "widgets = [label, checkbutton, radiobutton, entry, button, combobox, combobox, listbox, textt]\n",
    "\n",
    "#FOR LOOP TO PACK ALL WIDGET in WIDGETS LIST\n",
    "for widget in widgets:\n",
    "    widget.pack(pady=15)\n",
    "\n",
    "#To Show Configurable Options in Fonts\n",
    "for widget in widgets:\n",
    "    widget.configure(font=my_font)\n",
    "\n",
    "\n",
    "window.mainloop()"
   ]
  }
 ],
 "metadata": {
  "kernelspec": {
   "display_name": "Python 3",
   "language": "python",
   "name": "python3"
  },
  "language_info": {
   "codemirror_mode": {
    "name": "ipython",
    "version": 3
   },
   "file_extension": ".py",
   "mimetype": "text/x-python",
   "name": "python",
   "nbconvert_exporter": "python",
   "pygments_lexer": "ipython3",
   "version": "3.13.2"
  }
 },
 "nbformat": 4,
 "nbformat_minor": 5
}
