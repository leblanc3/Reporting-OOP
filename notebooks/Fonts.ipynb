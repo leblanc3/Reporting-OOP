{
 "cells": [
  {
   "cell_type": "markdown",
   "id": "0d586305",
   "metadata": {},
   "source": [
    "# FONTS\n",
    "\n",
    "### LABEL"
   ]
  },
  {
   "cell_type": "code",
   "execution_count": null,
   "id": "0e66d92f",
   "metadata": {},
   "outputs": [],
   "source": [
    "from tkinter import *\n",
    "from tkinter.font import Font\n",
    "\"\"\"\n",
    "#Creating own fonts\n",
    "big_text = Font(family =\"Script\", \n",
    "                size =50, \n",
    "                weight = \"bold\",\n",
    "                slant = \"roman\",\n",
    "                underline = 1,\n",
    "                overstrike= 0\n",
    "                )\n",
    "\"\"\"\n",
    "\n",
    "window = Tk()\n",
    "frame = Frame(window,bd=5, relief=\"sunken\", background= \"#d9ecd0\")\n",
    "frame.pack()\n",
    "label = Label(frame, text = \"what happen vella?\", font = (\"Helvetica\", 15))\n",
    "\n",
    "#Dictionary style \n",
    "#label[\"font\"] = big_text\n",
    "\n",
    "label.pack(pady=30)\n",
    "\n",
    "#Using configure method\n",
    "#label.configure(font=(\"Courier\",50)) # Configure fonts\n",
    "#label.configure(background= \"#77a8a8\") # Configure background\n",
    "#label.configure(foreground=\"pink\") #Configure foreground\n",
    "\n",
    "window.mainloop()"
   ]
  }
 ],
 "metadata": {
  "kernelspec": {
   "display_name": "Python 3",
   "language": "python",
   "name": "python3"
  },
  "language_info": {
   "name": "python",
   "version": "3.13.1"
  }
 },
 "nbformat": 4,
 "nbformat_minor": 5
}
