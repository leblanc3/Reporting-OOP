{
 "cells": [
  {
   "cell_type": "markdown",
   "id": "0d586305",
   "metadata": {},
   "source": [
    "# FONTS"
   ]
  },
  {
   "cell_type": "code",
   "execution_count": 15,
   "id": "0e66d92f",
   "metadata": {},
   "outputs": [],
   "source": [
    "from tkinter import *\n",
    "from tkinter.ttk import *\n",
    "from tkinter.font import Font\n",
    "\n",
    "\"\"\"\n",
    "#Creating own fonts\n",
    "big_text = Font(family =\"Script\", \n",
    "                size =50, \n",
    "                weight = \"bold\",\n",
    "                slant = \"roman\",\n",
    "                underline = 1,\n",
    "                overstrike= 0\n",
    "                )\n",
    "\"\"\"\n",
    "t = \"what happen fella\"\n",
    "window = Tk()\n",
    "window.geometry(\"500x500\")\n",
    "\n",
    "\n",
    "label = Label(window, text = t, )\n",
    "button = Button(window,text =t )\n",
    "checkbutton = Checkbutton(window, text =t)\n",
    "radiobutton = Radiobutton(window, text =t)\n",
    "entry = Entry(window, text = t)\n",
    "combobox = Combobox(window, text =t)\n",
    "listbox = Listbox(window)\n",
    "textt= Text(window)\n",
    "\n",
    "\n",
    "widgets = [label, button, checkbutton, radiobutton, entry, combobox, listbox, textt]\n",
    "\n",
    "for widget in widgets:\n",
    "    widget.pack(pady=20)\n",
    "\n",
    "\n",
    "window.mainloop()"
   ]
  },
  {
   "cell_type": "code",
   "execution_count": null,
   "id": "1705ec0d",
   "metadata": {},
   "outputs": [],
   "source": []
  }
 ],
 "metadata": {
  "kernelspec": {
   "display_name": "Python 3",
   "language": "python",
   "name": "python3"
  },
  "language_info": {
   "codemirror_mode": {
    "name": "ipython",
    "version": 3
   },
   "file_extension": ".py",
   "mimetype": "text/x-python",
   "name": "python",
   "nbconvert_exporter": "python",
   "pygments_lexer": "ipython3",
   "version": "3.13.1"
  }
 },
 "nbformat": 4,
 "nbformat_minor": 5
}
