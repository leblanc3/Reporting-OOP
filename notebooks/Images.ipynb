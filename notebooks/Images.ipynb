{
 "cells": [
  {
   "cell_type": "markdown",
   "id": "72646661",
   "metadata": {},
   "source": [
    "# IMAGES"
   ]
  },
  {
   "cell_type": "code",
   "execution_count": 8,
   "id": "42325847",
   "metadata": {},
   "outputs": [],
   "source": [
    "# LABEL \n",
    "\n",
    "from tkinter import *\n",
    "from PIL import Image, ImageTk\n",
    "\n",
    "window = Tk()\n",
    "\n",
    "img = ImageTk.PhotoImage(Image.open(\"../images/Clickme.jpg\"))\n",
    "\n",
    "label = Label(window, text= \"THIS IS THE LABEL\",image= img , background =\"green\", compound= TOP)\n",
    "label.pack(pady=20)\n",
    "\n",
    "\n",
    "def click():\n",
    "    \n",
    "    label.configure(image= img2)\n",
    "\n",
    "img2 = ImageTk.PhotoImage(Image.open(\"../images/pranked.jpg\"))\n",
    "buttonimg = ImageTk.PhotoImage(file =\"../images/button.png\")\n",
    "\n",
    "button = Button(window, image = buttonimg, text= \"THIS IS THE BUTTON\", compound=TOP, command=(click))\n",
    "button.pack(pady=30)\n",
    "\n",
    "window.mainloop()"
   ]
  },
  {
   "cell_type": "markdown",
   "id": "71a3188a",
   "metadata": {},
   "source": [
    "## CHECK BUTTON AND RADIOBUTTON"
   ]
  },
  {
   "cell_type": "code",
   "execution_count": 5,
   "id": "7f9789f3",
   "metadata": {},
   "outputs": [],
   "source": [
    "from tkinter import *\n",
    "from PIL import Image, ImageTk\n",
    "\n",
    "window = Tk()\n",
    "window.geometry(\"500x500\")\n",
    "\n",
    "male_photo = ImageTk.PhotoImage(Image.open(\"../images/Male.png\"))\n",
    "female_photo = ImageTk.PhotoImage(Image.open(\"../images/Female.png\"))\n",
    "\n",
    "selected_gender = StringVar(value=\"male\")\n",
    "\n",
    "image_label = Label(window, image=male_photo)\n",
    "image_label.pack(pady=10)\n",
    "\n",
    "def update_image():\n",
    "    if selected_gender.get() == \"male\":\n",
    "        image_label.config(image=male_photo)\n",
    "    else:\n",
    "        image_label.config(image=female_photo)\n",
    "\n",
    "# Radiobuttons to select gender\n",
    "radiobutton1 = Radiobutton(window, text=\"Male\", variable=selected_gender, value=\"male\", command=update_image)\n",
    "radiobutton2 = Radiobutton(window, text=\"Female\", variable=selected_gender, value=\"female\", command=update_image)\n",
    "\n",
    "radiobutton1.pack(anchor='w')\n",
    "radiobutton2.pack(anchor='w')\n",
    "\n",
    "check_var = IntVar(value=0)\n",
    "\n",
    "def toggle_radiobuttons():\n",
    "    state = NORMAL if check_var.get() == 1 else DISABLED\n",
    "    radiobutton1.config(state=state)\n",
    "    radiobutton2.config(state=state)\n",
    "\n",
    "\n",
    "checkbutton = Checkbutton(window, text=\"I want to select\", variable=check_var, command=toggle_radiobuttons)\n",
    "checkbutton.pack(pady=10)\n",
    "\n",
    "window.mainloop()"
   ]
  },
  {
   "cell_type": "code",
   "execution_count": null,
   "id": "a65218d4",
   "metadata": {},
   "outputs": [],
   "source": []
  }
 ],
 "metadata": {
  "kernelspec": {
   "display_name": "Python 3",
   "language": "python",
   "name": "python3"
  },
  "language_info": {
   "codemirror_mode": {
    "name": "ipython",
    "version": 3
   },
   "file_extension": ".py",
   "mimetype": "text/x-python",
   "name": "python",
   "nbconvert_exporter": "python",
   "pygments_lexer": "ipython3",
   "version": "3.13.1"
  }
 },
 "nbformat": 4,
 "nbformat_minor": 5
}
