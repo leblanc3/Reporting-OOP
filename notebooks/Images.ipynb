{
 "cells": [
  {
   "cell_type": "markdown",
   "id": "72646661",
   "metadata": {},
   "source": [
    "# IMAGES"
   ]
  },
  {
   "cell_type": "code",
   "execution_count": 6,
   "id": "42325847",
   "metadata": {},
   "outputs": [],
   "source": [
    "# LABEL \n",
    "\n",
    "from tkinter import *\n",
    "from PIL import Image, ImageTk\n",
    "\n",
    "window = Tk()\n",
    "\n",
    "img = ImageTk.PhotoImage(Image.open(\"../images/labelimage.png\"))\n",
    "img2 = ImageTk.PhotoImage(Image.open(\"../images/pranked.jpg\"))\n",
    "\n",
    "label = Label(window, text= \"THIS IS THE LABEL\",image= img , background =\"green\", compound= TOP)\n",
    "\n",
    "\n",
    "def click():\n",
    "    label.configure(image= img2)\n",
    "\n",
    "button = Button(window, text=\"Change Image\", command=(click()))\n",
    "button.pack(pady=30)\n",
    "label.pack(pady=20)\n",
    "\n",
    "window.mainloop()"
   ]
  },
  {
   "cell_type": "code",
   "execution_count": null,
   "id": "7f9789f3",
   "metadata": {},
   "outputs": [],
   "source": []
  }
 ],
 "metadata": {
  "kernelspec": {
   "display_name": "Python 3",
   "language": "python",
   "name": "python3"
  },
  "language_info": {
   "codemirror_mode": {
    "name": "ipython",
    "version": 3
   },
   "file_extension": ".py",
   "mimetype": "text/x-python",
   "name": "python",
   "nbconvert_exporter": "python",
   "pygments_lexer": "ipython3",
   "version": "3.13.1"
  }
 },
 "nbformat": 4,
 "nbformat_minor": 5
}
