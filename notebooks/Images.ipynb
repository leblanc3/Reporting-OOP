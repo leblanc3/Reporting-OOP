{
 "cells": [
  {
   "cell_type": "markdown",
   "id": "f178b930",
   "metadata": {},
   "source": [
    "# Images\n",
    "\n",
    "## LABLE\n"
   ]
  },
  {
   "cell_type": "code",
   "execution_count": 3,
   "id": "8b473435",
   "metadata": {},
   "outputs": [],
   "source": [
    "from tkinter import *\n",
    "from PIL import ImageTk, Image\n",
    "\n",
    "window = Tk()\n",
    "frame = Frame(window, height = 720, width=1080,bg=\"#000000\")\n",
    "frame.pack(pady=30)\n",
    "\n",
    "img1 = ImageTk.PhotoImage((Image.open(\"C:\\\\Users\\\\ThinkPad\\\\Documents\\\\GitHub\\\\OOP\\\\Reporting\\\\images\\\\prog.jpg\")))\n",
    "img2 = ImageTk.PhotoImage(Image.open(\"C:\\\\Users\\\\ThinkPad\\\\Documents\\\\GitHub\\\\OOP\\\\Reporting\\\\images\\\\meme.png\"))\n",
    "\n",
    "label = Label(frame, image=img1)\n",
    "label.pack(pady=50)\n",
    "\n",
    "def change_image():\n",
    "    label.config(image=img2)\n",
    "    \n",
    "button = Button(frame,\n",
    "                text=\"Change Image\", \n",
    "                command=change_image)\n",
    "\n",
    "button.pack(pady=25)\n",
    "\n",
    "window.mainloop()\n"
   ]
  },
  {
   "cell_type": "markdown",
   "id": "7a28b937",
   "metadata": {},
   "source": [
    "## BUTTON"
   ]
  },
  {
   "cell_type": "code",
   "execution_count": null,
   "id": "ce5cfae0",
   "metadata": {},
   "outputs": [],
   "source": [
    "from tkinter import *\n",
    "from PIL import ImageTk, Image\n",
    "import random\n",
    "\n",
    "\n",
    "#TULOG MUNA MAY MALI\n",
    "\n",
    "window = Tk()\n",
    "\n",
    "frame = Frame(window,height =200,width=200)\n",
    "frame.pack()\n",
    "\n",
    "def random_color():\n",
    "    return \"#\" + ''.join(random.choices('0123456789ABCDEF', k=6))\n",
    "\n",
    "def change_color():\n",
    "    new_color = random_color()\n",
    "    button.configure(background=new_color)\n",
    "\n",
    "button_image =Image.open(\"button.png\")\n",
    "button_image = button_image.resize((50,50)\n",
    "                                   )\n",
    "button_image = ImageTk.PhotoImage(button_image)\n",
    "button = Button(frame,\n",
    "                image = button_image,\n",
    "                command = \"changed_color()\")\n",
    "\n",
    "button.pack(pady=50)\n",
    "\n",
    "window.mainloop()"
   ]
  }
 ],
 "metadata": {
  "kernelspec": {
   "display_name": "Python 3",
   "language": "python",
   "name": "python3"
  },
  "language_info": {
   "codemirror_mode": {
    "name": "ipython",
    "version": 3
   },
   "file_extension": ".py",
   "mimetype": "text/x-python",
   "name": "python",
   "nbconvert_exporter": "python",
   "pygments_lexer": "ipython3",
   "version": "3.13.1"
  }
 },
 "nbformat": 4,
 "nbformat_minor": 5
}
