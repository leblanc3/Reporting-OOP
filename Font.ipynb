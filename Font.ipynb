{
 "cells": [
  {
   "cell_type": "markdown",
   "id": "1f5d0035",
   "metadata": {},
   "source": [
    "## NAMED FONT EXAMPLE"
   ]
  },
  {
   "cell_type": "code",
   "execution_count": null,
   "id": "95eeda77",
   "metadata": {},
   "outputs": [],
   "source": [
    "from tkinter import *\n",
    "from tkinter.font import Font\n",
    "\n",
    "\n",
    "window = Tk()\n",
    "\n",
    "\"\"\"\n",
    "big_text = Font(family =\"Times New Roman\", \n",
    "                size =50, \n",
    "                weight = \"bold\",\n",
    "                slant = \"roman\",\n",
    "                underline = 1,\n",
    "                overstrike= 0\n",
    "                )\n",
    "\"\"\"\n",
    "\n",
    "t = Text(window, \n",
    "        #font= big_text\n",
    "        )\n",
    "t.pack(pady=50)\n",
    "\n",
    "window.mainloop()"
   ]
  }
 ],
 "metadata": {
  "kernelspec": {
   "display_name": "Python 3",
   "language": "python",
   "name": "python3"
  },
  "language_info": {
   "codemirror_mode": {
    "name": "ipython",
    "version": 3
   },
   "file_extension": ".py",
   "mimetype": "text/x-python",
   "name": "python",
   "nbconvert_exporter": "python",
   "pygments_lexer": "ipython3",
   "version": "3.13.1"
  }
 },
 "nbformat": 4,
 "nbformat_minor": 5
}
