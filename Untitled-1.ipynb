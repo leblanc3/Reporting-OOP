{
 "cells": [
  {
   "cell_type": "markdown",
   "id": "fccf2023",
   "metadata": {},
   "source": [
    "# GROUP 4: Fonts, Colors, Images"
   ]
  },
  {
   "cell_type": "markdown",
   "id": "ea22fc2d",
   "metadata": {},
   "source": [
    "## MAG PROCEDURAL NALANG TAYO HAHAHSSHHHHAHHAAH BAT BA KO NAG OOOP"
   ]
  },
  {
   "cell_type": "code",
   "execution_count": null,
   "id": "76dda660",
   "metadata": {},
   "outputs": [],
   "source": [
    "from tkinter import *\n",
    "from tkinter.font import Font\n",
    "\n",
    "class WidgetApp(Tk):\n",
    "    def __init__(self):\n",
    "        super().__init__()\n",
    "        self.title(\"Group 4\")\n",
    "        self.geometry(\"720x480\")\n",
    "        self.create_widgets()\n",
    "        \n",
    "        #Widgets\n",
    "    def create_widgets(self):\n",
    "        widgets = [self.frame]\n",
    "        big_font = Font(\n",
    "            family= \"Comic Sans MS\",\n",
    "            size = 20,\n",
    "            weight = \"bold\",\n",
    "            slant = \"italic\"\n",
    "        )\n",
    "\n",
    "        #FRAME\n",
    "        self.frame = Frame(self, bg=\"#f0f0f0\", bd=2, relief=\"groove\")\n",
    "        self.frame.pack(padx=20, pady=20, fill=\"both\", expand=True)\n",
    "\n",
    "        #LABEL\n",
    "        self.label = Label(self.frame,text=\"This is a Label\",)\n",
    "        self.label.pack(pady=10)\n",
    "        \n",
    "        #BUTTON\n",
    "        self.button = Button(self.frame, text= \"This is a button\")\n",
    "        self.button.pack(pady = 10)\n",
    "\n",
    "        #CHECK BUTTON\n",
    "        self.checkbutton = Checkbutton(self.frame, text=\"Checkbox\")\n",
    "        self.checkbutton.pack(pady=5)\n",
    "\n",
    "        #RADIO BUTTONS\n",
    "        self.radiobutton1 = Radiobutton(self.frame, text=\"Option 1\", value=1)\n",
    "        self.radiobutton2 = Radiobutton(self.frame, text=\"Option 2\", value=2)\n",
    "        self.radiobutton1.pack(pady=2)\n",
    "        self.radiobutton2.pack(pady=2)\n",
    "\n",
    "        #Change color\n",
    "        #self.change_color(self.button, \"red\")\n",
    "        #self.change_color(self.frame, \"#000000\")\n",
    " \n",
    "        #Change font\n",
    "        #self.change_font(self.label, big_font)\n",
    "    def change_color(self, widget, color):\n",
    "            widget.config(bg=color)\n",
    "\n",
    "    def change_font(self, widget, newfont):\n",
    "        widget.config(font=newfont)\n",
    "        \n",
    "\n",
    "widgetapp = WidgetApp()\n",
    "widgetapp.mainloop()\n"
   ]
  },
  {
   "cell_type": "markdown",
   "id": "aa3fae98",
   "metadata": {},
   "source": [
    "## IMAGES"
   ]
  },
  {
   "cell_type": "code",
   "execution_count": null,
   "id": "33f247e3",
   "metadata": {},
   "outputs": [],
   "source": [
    "\n"
   ]
  }
 ],
 "metadata": {
  "kernelspec": {
   "display_name": "Python 3",
   "language": "python",
   "name": "python3"
  },
  "language_info": {
   "codemirror_mode": {
    "name": "ipython",
    "version": 3
   },
   "file_extension": ".py",
   "mimetype": "text/x-python",
   "name": "python",
   "nbconvert_exporter": "python",
   "pygments_lexer": "ipython3",
   "version": "3.13.1"
  }
 },
 "nbformat": 4,
 "nbformat_minor": 5
}
